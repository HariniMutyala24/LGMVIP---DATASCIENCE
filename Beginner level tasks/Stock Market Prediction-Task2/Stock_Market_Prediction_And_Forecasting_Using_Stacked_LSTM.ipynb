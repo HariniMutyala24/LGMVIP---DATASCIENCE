{
 "cells": [
  {
   "cell_type": "markdown",
   "id": "5ef4e80e",
   "metadata": {},
   "source": [
    "# Let's Grow More(LGMVIP) - \"DATA SCIENCE INTERN\"\n",
    "\n",
    "### LGMVIP March-23\n",
    "\n",
    "### AUTHOR - Mutyala Harini\n",
    "\n",
    "### BEGINNER LEVEL TASK\n",
    "\n",
    "### TASK-2 - Stock Market Prediction And Forecasting Using Stacked LSTM\n",
    "\n",
    " In this task we will do stock market prediction using Stack LSTM\n",
    " \n",
    "#### DatasetLink : https://raw.githubusercontent.com/mwitiderrick/stockprice/master/NSE-TATAGLOBAL.csv"
   ]
  },
  {
   "cell_type": "markdown",
   "id": "7fc63c3e",
   "metadata": {},
   "source": [
    "#### Importing Libraries"
   ]
  },
  {
   "cell_type": "code",
   "execution_count": 22,
   "id": "ddb87a87",
   "metadata": {},
   "outputs": [],
   "source": [
    "import numpy as np\n",
    "import math\n",
    "import matplotlib.pyplot as plt\n",
    "import pandas as pd\n",
    "import seaborn as sns"
   ]
  },
  {
   "cell_type": "code",
   "execution_count": 23,
   "id": "6c30a166",
   "metadata": {},
   "outputs": [],
   "source": [
    "Dataset_link='https://raw.githubusercontent.com/mwitiderrick/stockprice/master/NSE-TATAGLOBAL.csv'"
   ]
  },
  {
   "cell_type": "code",
   "execution_count": 24,
   "id": "ef095231",
   "metadata": {},
   "outputs": [
    {
     "data": {
      "text/html": [
       "<div>\n",
       "<style scoped>\n",
       "    .dataframe tbody tr th:only-of-type {\n",
       "        vertical-align: middle;\n",
       "    }\n",
       "\n",
       "    .dataframe tbody tr th {\n",
       "        vertical-align: top;\n",
       "    }\n",
       "\n",
       "    .dataframe thead th {\n",
       "        text-align: right;\n",
       "    }\n",
       "</style>\n",
       "<table border=\"1\" class=\"dataframe\">\n",
       "  <thead>\n",
       "    <tr style=\"text-align: right;\">\n",
       "      <th></th>\n",
       "      <th>Date</th>\n",
       "      <th>Open</th>\n",
       "      <th>High</th>\n",
       "      <th>Low</th>\n",
       "      <th>Last</th>\n",
       "      <th>Close</th>\n",
       "      <th>Total Trade Quantity</th>\n",
       "      <th>Turnover (Lacs)</th>\n",
       "    </tr>\n",
       "  </thead>\n",
       "  <tbody>\n",
       "    <tr>\n",
       "      <th>0</th>\n",
       "      <td>2018-09-28</td>\n",
       "      <td>234.05</td>\n",
       "      <td>235.95</td>\n",
       "      <td>230.20</td>\n",
       "      <td>233.50</td>\n",
       "      <td>233.75</td>\n",
       "      <td>3069914</td>\n",
       "      <td>7162.35</td>\n",
       "    </tr>\n",
       "    <tr>\n",
       "      <th>1</th>\n",
       "      <td>2018-09-27</td>\n",
       "      <td>234.55</td>\n",
       "      <td>236.80</td>\n",
       "      <td>231.10</td>\n",
       "      <td>233.80</td>\n",
       "      <td>233.25</td>\n",
       "      <td>5082859</td>\n",
       "      <td>11859.95</td>\n",
       "    </tr>\n",
       "    <tr>\n",
       "      <th>2</th>\n",
       "      <td>2018-09-26</td>\n",
       "      <td>240.00</td>\n",
       "      <td>240.00</td>\n",
       "      <td>232.50</td>\n",
       "      <td>235.00</td>\n",
       "      <td>234.25</td>\n",
       "      <td>2240909</td>\n",
       "      <td>5248.60</td>\n",
       "    </tr>\n",
       "    <tr>\n",
       "      <th>3</th>\n",
       "      <td>2018-09-25</td>\n",
       "      <td>233.30</td>\n",
       "      <td>236.75</td>\n",
       "      <td>232.00</td>\n",
       "      <td>236.25</td>\n",
       "      <td>236.10</td>\n",
       "      <td>2349368</td>\n",
       "      <td>5503.90</td>\n",
       "    </tr>\n",
       "    <tr>\n",
       "      <th>4</th>\n",
       "      <td>2018-09-24</td>\n",
       "      <td>233.55</td>\n",
       "      <td>239.20</td>\n",
       "      <td>230.75</td>\n",
       "      <td>234.00</td>\n",
       "      <td>233.30</td>\n",
       "      <td>3423509</td>\n",
       "      <td>7999.55</td>\n",
       "    </tr>\n",
       "  </tbody>\n",
       "</table>\n",
       "</div>"
      ],
      "text/plain": [
       "         Date    Open    High     Low    Last   Close  Total Trade Quantity  \\\n",
       "0  2018-09-28  234.05  235.95  230.20  233.50  233.75               3069914   \n",
       "1  2018-09-27  234.55  236.80  231.10  233.80  233.25               5082859   \n",
       "2  2018-09-26  240.00  240.00  232.50  235.00  234.25               2240909   \n",
       "3  2018-09-25  233.30  236.75  232.00  236.25  236.10               2349368   \n",
       "4  2018-09-24  233.55  239.20  230.75  234.00  233.30               3423509   \n",
       "\n",
       "   Turnover (Lacs)  \n",
       "0          7162.35  \n",
       "1         11859.95  \n",
       "2          5248.60  \n",
       "3          5503.90  \n",
       "4          7999.55  "
      ]
     },
     "execution_count": 24,
     "metadata": {},
     "output_type": "execute_result"
    }
   ],
   "source": [
    "df= pd.read_csv(Dataset_link, parse_dates=True,)\n",
    "df.reset_index()\n",
    "df.head()"
   ]
  },
  {
   "cell_type": "code",
   "execution_count": 25,
   "id": "ad58c3a5",
   "metadata": {},
   "outputs": [
    {
     "data": {
      "text/html": [
       "<div>\n",
       "<style scoped>\n",
       "    .dataframe tbody tr th:only-of-type {\n",
       "        vertical-align: middle;\n",
       "    }\n",
       "\n",
       "    .dataframe tbody tr th {\n",
       "        vertical-align: top;\n",
       "    }\n",
       "\n",
       "    .dataframe thead th {\n",
       "        text-align: right;\n",
       "    }\n",
       "</style>\n",
       "<table border=\"1\" class=\"dataframe\">\n",
       "  <thead>\n",
       "    <tr style=\"text-align: right;\">\n",
       "      <th></th>\n",
       "      <th>Date</th>\n",
       "      <th>Open</th>\n",
       "      <th>High</th>\n",
       "      <th>Low</th>\n",
       "      <th>Last</th>\n",
       "      <th>Close</th>\n",
       "      <th>Total Trade Quantity</th>\n",
       "      <th>Turnover (Lacs)</th>\n",
       "    </tr>\n",
       "  </thead>\n",
       "  <tbody>\n",
       "    <tr>\n",
       "      <th>2030</th>\n",
       "      <td>2010-07-27</td>\n",
       "      <td>117.6</td>\n",
       "      <td>119.50</td>\n",
       "      <td>112.00</td>\n",
       "      <td>118.80</td>\n",
       "      <td>118.65</td>\n",
       "      <td>586100</td>\n",
       "      <td>694.98</td>\n",
       "    </tr>\n",
       "    <tr>\n",
       "      <th>2031</th>\n",
       "      <td>2010-07-26</td>\n",
       "      <td>120.1</td>\n",
       "      <td>121.00</td>\n",
       "      <td>117.10</td>\n",
       "      <td>117.10</td>\n",
       "      <td>117.60</td>\n",
       "      <td>658440</td>\n",
       "      <td>780.01</td>\n",
       "    </tr>\n",
       "    <tr>\n",
       "      <th>2032</th>\n",
       "      <td>2010-07-23</td>\n",
       "      <td>121.8</td>\n",
       "      <td>121.95</td>\n",
       "      <td>120.25</td>\n",
       "      <td>120.35</td>\n",
       "      <td>120.65</td>\n",
       "      <td>281312</td>\n",
       "      <td>340.31</td>\n",
       "    </tr>\n",
       "    <tr>\n",
       "      <th>2033</th>\n",
       "      <td>2010-07-22</td>\n",
       "      <td>120.3</td>\n",
       "      <td>122.00</td>\n",
       "      <td>120.25</td>\n",
       "      <td>120.75</td>\n",
       "      <td>120.90</td>\n",
       "      <td>293312</td>\n",
       "      <td>355.17</td>\n",
       "    </tr>\n",
       "    <tr>\n",
       "      <th>2034</th>\n",
       "      <td>2010-07-21</td>\n",
       "      <td>122.1</td>\n",
       "      <td>123.00</td>\n",
       "      <td>121.05</td>\n",
       "      <td>121.10</td>\n",
       "      <td>121.55</td>\n",
       "      <td>658666</td>\n",
       "      <td>803.56</td>\n",
       "    </tr>\n",
       "  </tbody>\n",
       "</table>\n",
       "</div>"
      ],
      "text/plain": [
       "            Date   Open    High     Low    Last   Close  Total Trade Quantity  \\\n",
       "2030  2010-07-27  117.6  119.50  112.00  118.80  118.65                586100   \n",
       "2031  2010-07-26  120.1  121.00  117.10  117.10  117.60                658440   \n",
       "2032  2010-07-23  121.8  121.95  120.25  120.35  120.65                281312   \n",
       "2033  2010-07-22  120.3  122.00  120.25  120.75  120.90                293312   \n",
       "2034  2010-07-21  122.1  123.00  121.05  121.10  121.55                658666   \n",
       "\n",
       "      Turnover (Lacs)  \n",
       "2030           694.98  \n",
       "2031           780.01  \n",
       "2032           340.31  \n",
       "2033           355.17  \n",
       "2034           803.56  "
      ]
     },
     "execution_count": 25,
     "metadata": {},
     "output_type": "execute_result"
    }
   ],
   "source": [
    "df.tail()"
   ]
  },
  {
   "cell_type": "code",
   "execution_count": 26,
   "id": "32d4ad4c",
   "metadata": {},
   "outputs": [
    {
     "data": {
      "text/plain": [
       "Date                     object\n",
       "Open                    float64\n",
       "High                    float64\n",
       "Low                     float64\n",
       "Last                    float64\n",
       "Close                   float64\n",
       "Total Trade Quantity      int64\n",
       "Turnover (Lacs)         float64\n",
       "dtype: object"
      ]
     },
     "execution_count": 26,
     "metadata": {},
     "output_type": "execute_result"
    }
   ],
   "source": [
    "df.dtypes"
   ]
  },
  {
   "cell_type": "code",
   "execution_count": 27,
   "id": "335b45fc",
   "metadata": {},
   "outputs": [
    {
     "name": "stdout",
     "output_type": "stream",
     "text": [
      "<class 'pandas.core.frame.DataFrame'>\n",
      "RangeIndex: 2035 entries, 0 to 2034\n",
      "Data columns (total 8 columns):\n",
      " #   Column                Non-Null Count  Dtype  \n",
      "---  ------                --------------  -----  \n",
      " 0   Date                  2035 non-null   object \n",
      " 1   Open                  2035 non-null   float64\n",
      " 2   High                  2035 non-null   float64\n",
      " 3   Low                   2035 non-null   float64\n",
      " 4   Last                  2035 non-null   float64\n",
      " 5   Close                 2035 non-null   float64\n",
      " 6   Total Trade Quantity  2035 non-null   int64  \n",
      " 7   Turnover (Lacs)       2035 non-null   float64\n",
      "dtypes: float64(6), int64(1), object(1)\n",
      "memory usage: 127.3+ KB\n"
     ]
    }
   ],
   "source": [
    "df.info()"
   ]
  },
  {
   "cell_type": "markdown",
   "id": "d707e17d",
   "metadata": {},
   "source": [
    "### Checking the null values in data"
   ]
  },
  {
   "cell_type": "code",
   "execution_count": 28,
   "id": "7ed2427e",
   "metadata": {
    "scrolled": true
   },
   "outputs": [
    {
     "data": {
      "text/plain": [
       "Date                    0\n",
       "Open                    0\n",
       "High                    0\n",
       "Low                     0\n",
       "Last                    0\n",
       "Close                   0\n",
       "Total Trade Quantity    0\n",
       "Turnover (Lacs)         0\n",
       "dtype: int64"
      ]
     },
     "execution_count": 28,
     "metadata": {},
     "output_type": "execute_result"
    }
   ],
   "source": [
    "df.isnull().sum()"
   ]
  },
  {
   "cell_type": "markdown",
   "id": "9f088a41",
   "metadata": {},
   "source": [
    "Luckily we don't have any missing values in our data so we are good to go and prepare the data"
   ]
  },
  {
   "cell_type": "markdown",
   "id": "958eb5cc",
   "metadata": {},
   "source": [
    "### Describing the Dataset"
   ]
  },
  {
   "cell_type": "code",
   "execution_count": 29,
   "id": "20104c65",
   "metadata": {
    "scrolled": true
   },
   "outputs": [
    {
     "data": {
      "text/html": [
       "<div>\n",
       "<style scoped>\n",
       "    .dataframe tbody tr th:only-of-type {\n",
       "        vertical-align: middle;\n",
       "    }\n",
       "\n",
       "    .dataframe tbody tr th {\n",
       "        vertical-align: top;\n",
       "    }\n",
       "\n",
       "    .dataframe thead th {\n",
       "        text-align: right;\n",
       "    }\n",
       "</style>\n",
       "<table border=\"1\" class=\"dataframe\">\n",
       "  <thead>\n",
       "    <tr style=\"text-align: right;\">\n",
       "      <th></th>\n",
       "      <th>Open</th>\n",
       "      <th>High</th>\n",
       "      <th>Low</th>\n",
       "      <th>Last</th>\n",
       "      <th>Close</th>\n",
       "      <th>Total Trade Quantity</th>\n",
       "      <th>Turnover (Lacs)</th>\n",
       "    </tr>\n",
       "  </thead>\n",
       "  <tbody>\n",
       "    <tr>\n",
       "      <th>count</th>\n",
       "      <td>2035.000000</td>\n",
       "      <td>2035.000000</td>\n",
       "      <td>2035.000000</td>\n",
       "      <td>2035.000000</td>\n",
       "      <td>2035.00000</td>\n",
       "      <td>2.035000e+03</td>\n",
       "      <td>2035.000000</td>\n",
       "    </tr>\n",
       "    <tr>\n",
       "      <th>mean</th>\n",
       "      <td>149.713735</td>\n",
       "      <td>151.992826</td>\n",
       "      <td>147.293931</td>\n",
       "      <td>149.474251</td>\n",
       "      <td>149.45027</td>\n",
       "      <td>2.335681e+06</td>\n",
       "      <td>3899.980565</td>\n",
       "    </tr>\n",
       "    <tr>\n",
       "      <th>std</th>\n",
       "      <td>48.664509</td>\n",
       "      <td>49.413109</td>\n",
       "      <td>47.931958</td>\n",
       "      <td>48.732570</td>\n",
       "      <td>48.71204</td>\n",
       "      <td>2.091778e+06</td>\n",
       "      <td>4570.767877</td>\n",
       "    </tr>\n",
       "    <tr>\n",
       "      <th>min</th>\n",
       "      <td>81.100000</td>\n",
       "      <td>82.800000</td>\n",
       "      <td>80.000000</td>\n",
       "      <td>81.000000</td>\n",
       "      <td>80.95000</td>\n",
       "      <td>3.961000e+04</td>\n",
       "      <td>37.040000</td>\n",
       "    </tr>\n",
       "    <tr>\n",
       "      <th>25%</th>\n",
       "      <td>120.025000</td>\n",
       "      <td>122.100000</td>\n",
       "      <td>118.300000</td>\n",
       "      <td>120.075000</td>\n",
       "      <td>120.05000</td>\n",
       "      <td>1.146444e+06</td>\n",
       "      <td>1427.460000</td>\n",
       "    </tr>\n",
       "    <tr>\n",
       "      <th>50%</th>\n",
       "      <td>141.500000</td>\n",
       "      <td>143.400000</td>\n",
       "      <td>139.600000</td>\n",
       "      <td>141.100000</td>\n",
       "      <td>141.25000</td>\n",
       "      <td>1.783456e+06</td>\n",
       "      <td>2512.030000</td>\n",
       "    </tr>\n",
       "    <tr>\n",
       "      <th>75%</th>\n",
       "      <td>157.175000</td>\n",
       "      <td>159.400000</td>\n",
       "      <td>155.150000</td>\n",
       "      <td>156.925000</td>\n",
       "      <td>156.90000</td>\n",
       "      <td>2.813594e+06</td>\n",
       "      <td>4539.015000</td>\n",
       "    </tr>\n",
       "    <tr>\n",
       "      <th>max</th>\n",
       "      <td>327.700000</td>\n",
       "      <td>328.750000</td>\n",
       "      <td>321.650000</td>\n",
       "      <td>325.950000</td>\n",
       "      <td>325.75000</td>\n",
       "      <td>2.919102e+07</td>\n",
       "      <td>55755.080000</td>\n",
       "    </tr>\n",
       "  </tbody>\n",
       "</table>\n",
       "</div>"
      ],
      "text/plain": [
       "              Open         High          Low         Last       Close  \\\n",
       "count  2035.000000  2035.000000  2035.000000  2035.000000  2035.00000   \n",
       "mean    149.713735   151.992826   147.293931   149.474251   149.45027   \n",
       "std      48.664509    49.413109    47.931958    48.732570    48.71204   \n",
       "min      81.100000    82.800000    80.000000    81.000000    80.95000   \n",
       "25%     120.025000   122.100000   118.300000   120.075000   120.05000   \n",
       "50%     141.500000   143.400000   139.600000   141.100000   141.25000   \n",
       "75%     157.175000   159.400000   155.150000   156.925000   156.90000   \n",
       "max     327.700000   328.750000   321.650000   325.950000   325.75000   \n",
       "\n",
       "       Total Trade Quantity  Turnover (Lacs)  \n",
       "count          2.035000e+03      2035.000000  \n",
       "mean           2.335681e+06      3899.980565  \n",
       "std            2.091778e+06      4570.767877  \n",
       "min            3.961000e+04        37.040000  \n",
       "25%            1.146444e+06      1427.460000  \n",
       "50%            1.783456e+06      2512.030000  \n",
       "75%            2.813594e+06      4539.015000  \n",
       "max            2.919102e+07     55755.080000  "
      ]
     },
     "execution_count": 29,
     "metadata": {},
     "output_type": "execute_result"
    }
   ],
   "source": [
    "df.describe()"
   ]
  },
  {
   "cell_type": "markdown",
   "id": "15f7af52",
   "metadata": {},
   "source": [
    "### Sorting data according to date"
   ]
  },
  {
   "cell_type": "code",
   "execution_count": 30,
   "id": "b0d57bc3",
   "metadata": {},
   "outputs": [
    {
     "data": {
      "text/html": [
       "<div>\n",
       "<style scoped>\n",
       "    .dataframe tbody tr th:only-of-type {\n",
       "        vertical-align: middle;\n",
       "    }\n",
       "\n",
       "    .dataframe tbody tr th {\n",
       "        vertical-align: top;\n",
       "    }\n",
       "\n",
       "    .dataframe thead th {\n",
       "        text-align: right;\n",
       "    }\n",
       "</style>\n",
       "<table border=\"1\" class=\"dataframe\">\n",
       "  <thead>\n",
       "    <tr style=\"text-align: right;\">\n",
       "      <th></th>\n",
       "      <th>Date</th>\n",
       "      <th>Open</th>\n",
       "      <th>High</th>\n",
       "      <th>Low</th>\n",
       "      <th>Last</th>\n",
       "      <th>Close</th>\n",
       "      <th>Total Trade Quantity</th>\n",
       "      <th>Turnover (Lacs)</th>\n",
       "    </tr>\n",
       "  </thead>\n",
       "  <tbody>\n",
       "    <tr>\n",
       "      <th>2034</th>\n",
       "      <td>2010-07-21</td>\n",
       "      <td>122.10</td>\n",
       "      <td>123.00</td>\n",
       "      <td>121.05</td>\n",
       "      <td>121.10</td>\n",
       "      <td>121.55</td>\n",
       "      <td>658666</td>\n",
       "      <td>803.56</td>\n",
       "    </tr>\n",
       "    <tr>\n",
       "      <th>2033</th>\n",
       "      <td>2010-07-22</td>\n",
       "      <td>120.30</td>\n",
       "      <td>122.00</td>\n",
       "      <td>120.25</td>\n",
       "      <td>120.75</td>\n",
       "      <td>120.90</td>\n",
       "      <td>293312</td>\n",
       "      <td>355.17</td>\n",
       "    </tr>\n",
       "    <tr>\n",
       "      <th>2032</th>\n",
       "      <td>2010-07-23</td>\n",
       "      <td>121.80</td>\n",
       "      <td>121.95</td>\n",
       "      <td>120.25</td>\n",
       "      <td>120.35</td>\n",
       "      <td>120.65</td>\n",
       "      <td>281312</td>\n",
       "      <td>340.31</td>\n",
       "    </tr>\n",
       "    <tr>\n",
       "      <th>2031</th>\n",
       "      <td>2010-07-26</td>\n",
       "      <td>120.10</td>\n",
       "      <td>121.00</td>\n",
       "      <td>117.10</td>\n",
       "      <td>117.10</td>\n",
       "      <td>117.60</td>\n",
       "      <td>658440</td>\n",
       "      <td>780.01</td>\n",
       "    </tr>\n",
       "    <tr>\n",
       "      <th>2030</th>\n",
       "      <td>2010-07-27</td>\n",
       "      <td>117.60</td>\n",
       "      <td>119.50</td>\n",
       "      <td>112.00</td>\n",
       "      <td>118.80</td>\n",
       "      <td>118.65</td>\n",
       "      <td>586100</td>\n",
       "      <td>694.98</td>\n",
       "    </tr>\n",
       "    <tr>\n",
       "      <th>...</th>\n",
       "      <td>...</td>\n",
       "      <td>...</td>\n",
       "      <td>...</td>\n",
       "      <td>...</td>\n",
       "      <td>...</td>\n",
       "      <td>...</td>\n",
       "      <td>...</td>\n",
       "      <td>...</td>\n",
       "    </tr>\n",
       "    <tr>\n",
       "      <th>4</th>\n",
       "      <td>2018-09-24</td>\n",
       "      <td>233.55</td>\n",
       "      <td>239.20</td>\n",
       "      <td>230.75</td>\n",
       "      <td>234.00</td>\n",
       "      <td>233.30</td>\n",
       "      <td>3423509</td>\n",
       "      <td>7999.55</td>\n",
       "    </tr>\n",
       "    <tr>\n",
       "      <th>3</th>\n",
       "      <td>2018-09-25</td>\n",
       "      <td>233.30</td>\n",
       "      <td>236.75</td>\n",
       "      <td>232.00</td>\n",
       "      <td>236.25</td>\n",
       "      <td>236.10</td>\n",
       "      <td>2349368</td>\n",
       "      <td>5503.90</td>\n",
       "    </tr>\n",
       "    <tr>\n",
       "      <th>2</th>\n",
       "      <td>2018-09-26</td>\n",
       "      <td>240.00</td>\n",
       "      <td>240.00</td>\n",
       "      <td>232.50</td>\n",
       "      <td>235.00</td>\n",
       "      <td>234.25</td>\n",
       "      <td>2240909</td>\n",
       "      <td>5248.60</td>\n",
       "    </tr>\n",
       "    <tr>\n",
       "      <th>1</th>\n",
       "      <td>2018-09-27</td>\n",
       "      <td>234.55</td>\n",
       "      <td>236.80</td>\n",
       "      <td>231.10</td>\n",
       "      <td>233.80</td>\n",
       "      <td>233.25</td>\n",
       "      <td>5082859</td>\n",
       "      <td>11859.95</td>\n",
       "    </tr>\n",
       "    <tr>\n",
       "      <th>0</th>\n",
       "      <td>2018-09-28</td>\n",
       "      <td>234.05</td>\n",
       "      <td>235.95</td>\n",
       "      <td>230.20</td>\n",
       "      <td>233.50</td>\n",
       "      <td>233.75</td>\n",
       "      <td>3069914</td>\n",
       "      <td>7162.35</td>\n",
       "    </tr>\n",
       "  </tbody>\n",
       "</table>\n",
       "<p>2035 rows × 8 columns</p>\n",
       "</div>"
      ],
      "text/plain": [
       "           Date    Open    High     Low    Last   Close  Total Trade Quantity  \\\n",
       "2034 2010-07-21  122.10  123.00  121.05  121.10  121.55                658666   \n",
       "2033 2010-07-22  120.30  122.00  120.25  120.75  120.90                293312   \n",
       "2032 2010-07-23  121.80  121.95  120.25  120.35  120.65                281312   \n",
       "2031 2010-07-26  120.10  121.00  117.10  117.10  117.60                658440   \n",
       "2030 2010-07-27  117.60  119.50  112.00  118.80  118.65                586100   \n",
       "...         ...     ...     ...     ...     ...     ...                   ...   \n",
       "4    2018-09-24  233.55  239.20  230.75  234.00  233.30               3423509   \n",
       "3    2018-09-25  233.30  236.75  232.00  236.25  236.10               2349368   \n",
       "2    2018-09-26  240.00  240.00  232.50  235.00  234.25               2240909   \n",
       "1    2018-09-27  234.55  236.80  231.10  233.80  233.25               5082859   \n",
       "0    2018-09-28  234.05  235.95  230.20  233.50  233.75               3069914   \n",
       "\n",
       "      Turnover (Lacs)  \n",
       "2034           803.56  \n",
       "2033           355.17  \n",
       "2032           340.31  \n",
       "2031           780.01  \n",
       "2030           694.98  \n",
       "...               ...  \n",
       "4             7999.55  \n",
       "3             5503.90  \n",
       "2             5248.60  \n",
       "1            11859.95  \n",
       "0             7162.35  \n",
       "\n",
       "[2035 rows x 8 columns]"
      ]
     },
     "execution_count": 30,
     "metadata": {},
     "output_type": "execute_result"
    }
   ],
   "source": [
    "df['Date'] = pd.to_datetime(df['Date'], dayfirst=True, yearfirst=False) #Converting to date-time format in pandas for sorting in ascending order\n",
    "dataAsc = df.sort_values(by='Date')\n",
    "dataAsc"
   ]
  },
  {
   "cell_type": "code",
   "execution_count": 31,
   "id": "26d0b92b",
   "metadata": {},
   "outputs": [
    {
     "data": {
      "text/html": [
       "<div>\n",
       "<style scoped>\n",
       "    .dataframe tbody tr th:only-of-type {\n",
       "        vertical-align: middle;\n",
       "    }\n",
       "\n",
       "    .dataframe tbody tr th {\n",
       "        vertical-align: top;\n",
       "    }\n",
       "\n",
       "    .dataframe thead th {\n",
       "        text-align: right;\n",
       "    }\n",
       "</style>\n",
       "<table border=\"1\" class=\"dataframe\">\n",
       "  <thead>\n",
       "    <tr style=\"text-align: right;\">\n",
       "      <th></th>\n",
       "      <th>Date</th>\n",
       "      <th>Open</th>\n",
       "      <th>High</th>\n",
       "      <th>Low</th>\n",
       "      <th>Last</th>\n",
       "      <th>Close</th>\n",
       "      <th>Total Trade Quantity</th>\n",
       "      <th>Turnover (Lacs)</th>\n",
       "    </tr>\n",
       "  </thead>\n",
       "  <tbody>\n",
       "    <tr>\n",
       "      <th>0</th>\n",
       "      <td>2010-07-21</td>\n",
       "      <td>122.10</td>\n",
       "      <td>123.00</td>\n",
       "      <td>121.05</td>\n",
       "      <td>121.10</td>\n",
       "      <td>121.55</td>\n",
       "      <td>658666</td>\n",
       "      <td>803.56</td>\n",
       "    </tr>\n",
       "    <tr>\n",
       "      <th>1</th>\n",
       "      <td>2010-07-22</td>\n",
       "      <td>120.30</td>\n",
       "      <td>122.00</td>\n",
       "      <td>120.25</td>\n",
       "      <td>120.75</td>\n",
       "      <td>120.90</td>\n",
       "      <td>293312</td>\n",
       "      <td>355.17</td>\n",
       "    </tr>\n",
       "    <tr>\n",
       "      <th>2</th>\n",
       "      <td>2010-07-23</td>\n",
       "      <td>121.80</td>\n",
       "      <td>121.95</td>\n",
       "      <td>120.25</td>\n",
       "      <td>120.35</td>\n",
       "      <td>120.65</td>\n",
       "      <td>281312</td>\n",
       "      <td>340.31</td>\n",
       "    </tr>\n",
       "    <tr>\n",
       "      <th>3</th>\n",
       "      <td>2010-07-26</td>\n",
       "      <td>120.10</td>\n",
       "      <td>121.00</td>\n",
       "      <td>117.10</td>\n",
       "      <td>117.10</td>\n",
       "      <td>117.60</td>\n",
       "      <td>658440</td>\n",
       "      <td>780.01</td>\n",
       "    </tr>\n",
       "    <tr>\n",
       "      <th>4</th>\n",
       "      <td>2010-07-27</td>\n",
       "      <td>117.60</td>\n",
       "      <td>119.50</td>\n",
       "      <td>112.00</td>\n",
       "      <td>118.80</td>\n",
       "      <td>118.65</td>\n",
       "      <td>586100</td>\n",
       "      <td>694.98</td>\n",
       "    </tr>\n",
       "    <tr>\n",
       "      <th>...</th>\n",
       "      <td>...</td>\n",
       "      <td>...</td>\n",
       "      <td>...</td>\n",
       "      <td>...</td>\n",
       "      <td>...</td>\n",
       "      <td>...</td>\n",
       "      <td>...</td>\n",
       "      <td>...</td>\n",
       "    </tr>\n",
       "    <tr>\n",
       "      <th>2030</th>\n",
       "      <td>2018-09-24</td>\n",
       "      <td>233.55</td>\n",
       "      <td>239.20</td>\n",
       "      <td>230.75</td>\n",
       "      <td>234.00</td>\n",
       "      <td>233.30</td>\n",
       "      <td>3423509</td>\n",
       "      <td>7999.55</td>\n",
       "    </tr>\n",
       "    <tr>\n",
       "      <th>2031</th>\n",
       "      <td>2018-09-25</td>\n",
       "      <td>233.30</td>\n",
       "      <td>236.75</td>\n",
       "      <td>232.00</td>\n",
       "      <td>236.25</td>\n",
       "      <td>236.10</td>\n",
       "      <td>2349368</td>\n",
       "      <td>5503.90</td>\n",
       "    </tr>\n",
       "    <tr>\n",
       "      <th>2032</th>\n",
       "      <td>2018-09-26</td>\n",
       "      <td>240.00</td>\n",
       "      <td>240.00</td>\n",
       "      <td>232.50</td>\n",
       "      <td>235.00</td>\n",
       "      <td>234.25</td>\n",
       "      <td>2240909</td>\n",
       "      <td>5248.60</td>\n",
       "    </tr>\n",
       "    <tr>\n",
       "      <th>2033</th>\n",
       "      <td>2018-09-27</td>\n",
       "      <td>234.55</td>\n",
       "      <td>236.80</td>\n",
       "      <td>231.10</td>\n",
       "      <td>233.80</td>\n",
       "      <td>233.25</td>\n",
       "      <td>5082859</td>\n",
       "      <td>11859.95</td>\n",
       "    </tr>\n",
       "    <tr>\n",
       "      <th>2034</th>\n",
       "      <td>2018-09-28</td>\n",
       "      <td>234.05</td>\n",
       "      <td>235.95</td>\n",
       "      <td>230.20</td>\n",
       "      <td>233.50</td>\n",
       "      <td>233.75</td>\n",
       "      <td>3069914</td>\n",
       "      <td>7162.35</td>\n",
       "    </tr>\n",
       "  </tbody>\n",
       "</table>\n",
       "<p>2035 rows × 8 columns</p>\n",
       "</div>"
      ],
      "text/plain": [
       "           Date    Open    High     Low    Last   Close  Total Trade Quantity  \\\n",
       "0    2010-07-21  122.10  123.00  121.05  121.10  121.55                658666   \n",
       "1    2010-07-22  120.30  122.00  120.25  120.75  120.90                293312   \n",
       "2    2010-07-23  121.80  121.95  120.25  120.35  120.65                281312   \n",
       "3    2010-07-26  120.10  121.00  117.10  117.10  117.60                658440   \n",
       "4    2010-07-27  117.60  119.50  112.00  118.80  118.65                586100   \n",
       "...         ...     ...     ...     ...     ...     ...                   ...   \n",
       "2030 2018-09-24  233.55  239.20  230.75  234.00  233.30               3423509   \n",
       "2031 2018-09-25  233.30  236.75  232.00  236.25  236.10               2349368   \n",
       "2032 2018-09-26  240.00  240.00  232.50  235.00  234.25               2240909   \n",
       "2033 2018-09-27  234.55  236.80  231.10  233.80  233.25               5082859   \n",
       "2034 2018-09-28  234.05  235.95  230.20  233.50  233.75               3069914   \n",
       "\n",
       "      Turnover (Lacs)  \n",
       "0              803.56  \n",
       "1              355.17  \n",
       "2              340.31  \n",
       "3              780.01  \n",
       "4              694.98  \n",
       "...               ...  \n",
       "2030          7999.55  \n",
       "2031          5503.90  \n",
       "2032          5248.60  \n",
       "2033         11859.95  \n",
       "2034          7162.35  \n",
       "\n",
       "[2035 rows x 8 columns]"
      ]
     },
     "execution_count": 31,
     "metadata": {},
     "output_type": "execute_result"
    }
   ],
   "source": [
    "#Reset the index of our data\n",
    "dataAsc.reset_index(inplace=True)\n",
    "dataAsc.drop('index', axis='columns', inplace=True)\n",
    "dataAsc"
   ]
  },
  {
   "cell_type": "markdown",
   "id": "46689351",
   "metadata": {},
   "source": [
    "### Plotting Closing Data\n",
    "\n",
    "To visualize the analysis of stock market we will plot the closing data"
   ]
  },
  {
   "cell_type": "code",
   "execution_count": 32,
   "id": "4ca1c40a",
   "metadata": {},
   "outputs": [
    {
     "data": {
      "text/plain": [
       "[<matplotlib.lines.Line2D at 0x15b2ccf96a0>]"
      ]
     },
     "execution_count": 32,
     "metadata": {},
     "output_type": "execute_result"
    },
    {
     "data": {
      "image/png": "[encoded data removed]",
      "text/plain": [
       "<Figure size 1300x700 with 1 Axes>"
      ]
     },
     "metadata": {},
     "output_type": "display_data"
    }
   ],
   "source": [
    "plt.figure(figsize=(13,7))\n",
    "plt.plot(dataAsc['Close'])"
   ]
  },
  {
   "cell_type": "markdown",
   "id": "e494135f",
   "metadata": {},
   "source": [
    "### Scaling the data\n",
    "\n",
    "For giving the data to LSTM, first we need to scale the data between specific range which we generally keep from 0 to 1. We will do this with the help of minmax scaler from sklearn module"
   ]
  },
  {
   "cell_type": "code",
   "execution_count": 33,
   "id": "a7ff9d76",
   "metadata": {},
   "outputs": [
    {
     "data": {
      "text/plain": [
       "array([[0.16584967],\n",
       "       [0.16319444],\n",
       "       [0.1621732 ],\n",
       "       ...,\n",
       "       [0.62622549],\n",
       "       [0.62214052],\n",
       "       [0.62418301]])"
      ]
     },
     "execution_count": 33,
     "metadata": {},
     "output_type": "execute_result"
    }
   ],
   "source": [
    "#First we will seperate the close column from our dataset and then scale it after converting it to numpy array\n",
    "dataClose = dataAsc['Close']\n",
    "\n",
    "from sklearn.preprocessing import MinMaxScaler\n",
    "scaler = MinMaxScaler(feature_range=(0,1))\n",
    "dataClose = scaler.fit_transform(np.array(dataClose).reshape(-1,1))\n",
    "dataClose"
   ]
  },
  {
   "cell_type": "markdown",
   "id": "f675cd81",
   "metadata": {},
   "source": [
    "### Splitting data into train and test data"
   ]
  },
  {
   "cell_type": "code",
   "execution_count": 34,
   "id": "096770b1",
   "metadata": {},
   "outputs": [
    {
     "name": "stdout",
     "output_type": "stream",
     "text": [
      "1424\n",
      "611\n"
     ]
    }
   ],
   "source": [
    "train_size = int(len(dataClose)*0.7)\n",
    "train_data = dataClose[:train_size]\n",
    "test_data = dataClose[train_size:]\n",
    "print(len(train_data))\n",
    "print(len(test_data))"
   ]
  },
  {
   "cell_type": "markdown",
   "id": "322924ba",
   "metadata": {},
   "source": [
    "### Data preprocessing\n",
    "\n",
    "In this we will create a function that will create our data to be ready to give to LSTM. In this we will take first 99 close values and give it as input and 100th value as output value for training and similarly we will do for 99 values from second value and give 101th value as output and so on we will keep increasing our starting value by 1. In simple words we suppose we want to find the price for 100th day then we will give 99 values before 100th value to the input and if we want the 105th day price then we will give 99 values before the 105th value to train and predict the output of 105th value.\n",
    "\n",
    "In this model we will use set of 150 days."
   ]
  },
  {
   "cell_type": "code",
   "execution_count": 35,
   "id": "7d5f5803",
   "metadata": {},
   "outputs": [],
   "source": [
    "def data_preprocess(data,ts):\n",
    "    xdata, ydata = [], []\n",
    "    for i in range(len(data)-ts-1):\n",
    "        xdata.append(data[i:i+ts])\n",
    "        ydata.append(data[i+ts])\n",
    "    return np.array(xdata), np.array(ydata)"
   ]
  },
  {
   "cell_type": "code",
   "execution_count": 36,
   "id": "7249e716",
   "metadata": {},
   "outputs": [
    {
     "name": "stdout",
     "output_type": "stream",
     "text": [
      "(1273, 150, 1) (1273, 1)\n"
     ]
    }
   ],
   "source": [
    "#We will 150 timesteps for training our model\n",
    "xTrain, yTrain = data_preprocess(train_data, 150)\n",
    "xTest, yTest = data_preprocess(test_data, 150)\n",
    "print(xTrain.shape, yTrain.shape)"
   ]
  },
  {
   "cell_type": "code",
   "execution_count": 37,
   "id": "855cc152",
   "metadata": {},
   "outputs": [
    {
     "data": {
      "text/plain": [
       "array([[[0.16584967],\n",
       "        [0.16319444],\n",
       "        [0.1621732 ],\n",
       "        ...,\n",
       "        [0.08455882],\n",
       "        [0.05535131],\n",
       "        [0.0620915 ]],\n",
       "\n",
       "       [[0.16319444],\n",
       "        [0.1621732 ],\n",
       "        [0.14971405],\n",
       "        ...,\n",
       "        [0.05535131],\n",
       "        [0.0620915 ],\n",
       "        [0.06311275]],\n",
       "\n",
       "       [[0.1621732 ],\n",
       "        [0.14971405],\n",
       "        [0.15400327],\n",
       "        ...,\n",
       "        [0.0620915 ],\n",
       "        [0.06311275],\n",
       "        [0.05861928]],\n",
       "\n",
       "       ...,\n",
       "\n",
       "       [[0.14848856],\n",
       "        [0.14460784],\n",
       "        [0.15196078],\n",
       "        ...,\n",
       "        [0.16441993],\n",
       "        [0.15236928],\n",
       "        [0.15482026]],\n",
       "\n",
       "       [[0.14460784],\n",
       "        [0.15196078],\n",
       "        [0.15788399],\n",
       "        ...,\n",
       "        [0.15236928],\n",
       "        [0.15482026],\n",
       "        [0.15420752]],\n",
       "\n",
       "       [[0.15196078],\n",
       "        [0.15788399],\n",
       "        [0.13991013],\n",
       "        ...,\n",
       "        [0.15482026],\n",
       "        [0.15420752],\n",
       "        [0.15012255]]])"
      ]
     },
     "execution_count": 37,
     "metadata": {},
     "output_type": "execute_result"
    }
   ],
   "source": [
    "xTrain"
   ]
  },
  {
   "cell_type": "code",
   "execution_count": 38,
   "id": "bbd9374c",
   "metadata": {},
   "outputs": [
    {
     "data": {
      "text/plain": [
       "array([[0.06311275],\n",
       "       [0.05861928],\n",
       "       [0.02634804],\n",
       "       ...,\n",
       "       [0.15420752],\n",
       "       [0.15012255],\n",
       "       [0.15747549]])"
      ]
     },
     "execution_count": 38,
     "metadata": {},
     "output_type": "execute_result"
    }
   ],
   "source": [
    "yTrain"
   ]
  },
  {
   "cell_type": "markdown",
   "id": "d147f048",
   "metadata": {},
   "source": [
    "### Creating LSTM Model"
   ]
  },
  {
   "cell_type": "code",
   "execution_count": 39,
   "id": "0266d73c",
   "metadata": {},
   "outputs": [],
   "source": [
    "from tensorflow.keras.models import Sequential\n",
    "from tensorflow.keras.layers import Dense, Dropout, LSTM"
   ]
  },
  {
   "cell_type": "code",
   "execution_count": 40,
   "id": "8b3afe20",
   "metadata": {},
   "outputs": [
    {
     "name": "stdout",
     "output_type": "stream",
     "text": [
      "Model: \"sequential_1\"\n",
      "_________________________________________________________________\n",
      " Layer (type)                Output Shape              Param #   \n",
      "=================================================================\n",
      " lstm_3 (LSTM)               (None, 150, 70)           20160     \n",
      "                                                                 \n",
      " lstm_4 (LSTM)               (None, 150, 60)           31440     \n",
      "                                                                 \n",
      " dropout_1 (Dropout)         (None, 150, 60)           0         \n",
      "                                                                 \n",
      " lstm_5 (LSTM)               (None, 50)                22200     \n",
      "                                                                 \n",
      " dense_1 (Dense)             (None, 1)                 51        \n",
      "                                                                 \n",
      "=================================================================\n",
      "Total params: 73,851\n",
      "Trainable params: 73,851\n",
      "Non-trainable params: 0\n",
      "_________________________________________________________________\n"
     ]
    }
   ],
   "source": [
    "model = Sequential()\n",
    "model.add(LSTM(70, return_sequences=True, input_shape=(150,1)))\n",
    "model.add(LSTM(60, return_sequences=True))\n",
    "model.add(Dropout(0.05)) #This will discard 5% of the neurons to prevent overfitting\n",
    "model.add(LSTM(50))\n",
    "model.add(Dense(1))\n",
    "model.compile(loss=\"mean_squared_error\", optimizer=\"adam\")\n",
    "model.summary()"
   ]
  },
  {
   "cell_type": "markdown",
   "id": "25d59de0",
   "metadata": {},
   "source": [
    "### Training Our Data"
   ]
  },
  {
   "cell_type": "code",
   "execution_count": 41,
   "id": "c309e04d",
   "metadata": {},
   "outputs": [
    {
     "name": "stdout",
     "output_type": "stream",
     "text": [
      "Epoch 1/100\n",
      "20/20 [==============================] - 7s 213ms/step - loss: 0.0100 - val_loss: 0.0122\n",
      "Epoch 2/100\n",
      "20/20 [==============================] - 3s 169ms/step - loss: 0.0016 - val_loss: 0.0060\n",
      "Epoch 3/100\n",
      "20/20 [==============================] - 3s 173ms/step - loss: 9.1728e-04 - val_loss: 0.0036\n",
      "Epoch 4/100\n",
      "20/20 [==============================] - 4s 178ms/step - loss: 8.1962e-04 - val_loss: 0.0051\n",
      "Epoch 5/100\n",
      "20/20 [==============================] - 4s 180ms/step - loss: 8.0367e-04 - val_loss: 0.0043\n",
      "Epoch 6/100\n",
      "20/20 [==============================] - 4s 184ms/step - loss: 7.7849e-04 - val_loss: 0.0042\n",
      "Epoch 7/100\n",
      "20/20 [==============================] - 4s 205ms/step - loss: 7.6119e-04 - val_loss: 0.0044\n",
      "Epoch 8/100\n",
      "20/20 [==============================] - 4s 207ms/step - loss: 7.4338e-04 - val_loss: 0.0053\n",
      "Epoch 9/100\n",
      "20/20 [==============================] - 4s 207ms/step - loss: 7.2946e-04 - val_loss: 0.0040\n",
      "Epoch 10/100\n",
      "20/20 [==============================] - 4s 206ms/step - loss: 7.5593e-04 - val_loss: 0.0027\n",
      "Epoch 11/100\n",
      "20/20 [==============================] - 4s 207ms/step - loss: 7.4019e-04 - val_loss: 0.0039\n",
      "Epoch 12/100\n",
      "20/20 [==============================] - 4s 214ms/step - loss: 6.6988e-04 - val_loss: 0.0036\n",
      "Epoch 13/100\n",
      "20/20 [==============================] - 4s 222ms/step - loss: 6.7724e-04 - val_loss: 0.0033\n",
      "Epoch 14/100\n",
      "20/20 [==============================] - 4s 214ms/step - loss: 6.6748e-04 - val_loss: 0.0039\n",
      "Epoch 15/100\n",
      "20/20 [==============================] - 4s 207ms/step - loss: 6.6566e-04 - val_loss: 0.0037\n",
      "Epoch 16/100\n",
      "20/20 [==============================] - 4s 217ms/step - loss: 6.3567e-04 - val_loss: 0.0057\n",
      "Epoch 17/100\n",
      "20/20 [==============================] - 4s 206ms/step - loss: 6.0362e-04 - val_loss: 0.0069\n",
      "Epoch 18/100\n",
      "20/20 [==============================] - 4s 211ms/step - loss: 6.1136e-04 - val_loss: 0.0049\n",
      "Epoch 19/100\n",
      "20/20 [==============================] - 4s 210ms/step - loss: 6.1629e-04 - val_loss: 0.0071\n",
      "Epoch 20/100\n",
      "20/20 [==============================] - 4s 209ms/step - loss: 6.0803e-04 - val_loss: 0.0051\n",
      "Epoch 21/100\n",
      "20/20 [==============================] - 4s 209ms/step - loss: 5.7437e-04 - val_loss: 0.0062\n",
      "Epoch 22/100\n",
      "20/20 [==============================] - 4s 207ms/step - loss: 5.4478e-04 - val_loss: 0.0076\n",
      "Epoch 23/100\n",
      "20/20 [==============================] - 4s 208ms/step - loss: 6.0137e-04 - val_loss: 0.0044\n",
      "Epoch 24/100\n",
      "20/20 [==============================] - 4s 209ms/step - loss: 5.4071e-04 - val_loss: 0.0037\n",
      "Epoch 25/100\n",
      "20/20 [==============================] - 4s 208ms/step - loss: 5.7451e-04 - val_loss: 0.0065\n",
      "Epoch 26/100\n",
      "20/20 [==============================] - 4s 214ms/step - loss: 5.1081e-04 - val_loss: 0.0052\n",
      "Epoch 27/100\n",
      "20/20 [==============================] - 4s 212ms/step - loss: 5.1187e-04 - val_loss: 0.0054\n",
      "Epoch 28/100\n",
      "20/20 [==============================] - 4s 211ms/step - loss: 4.9297e-04 - val_loss: 0.0049\n",
      "Epoch 29/100\n",
      "20/20 [==============================] - 4s 210ms/step - loss: 5.0873e-04 - val_loss: 0.0100\n",
      "Epoch 30/100\n",
      "20/20 [==============================] - 4s 207ms/step - loss: 4.9375e-04 - val_loss: 0.0041\n",
      "Epoch 31/100\n",
      "20/20 [==============================] - 4s 207ms/step - loss: 4.8682e-04 - val_loss: 0.0043\n",
      "Epoch 32/100\n",
      "20/20 [==============================] - 4s 208ms/step - loss: 4.6868e-04 - val_loss: 0.0030\n",
      "Epoch 33/100\n",
      "20/20 [==============================] - 4s 206ms/step - loss: 4.4442e-04 - val_loss: 0.0057\n",
      "Epoch 34/100\n",
      "20/20 [==============================] - 4s 208ms/step - loss: 4.4260e-04 - val_loss: 0.0047\n",
      "Epoch 35/100\n",
      "20/20 [==============================] - 4s 208ms/step - loss: 4.8821e-04 - val_loss: 0.0042\n",
      "Epoch 36/100\n",
      "20/20 [==============================] - 4s 210ms/step - loss: 4.7226e-04 - val_loss: 0.0033\n",
      "Epoch 37/100\n",
      "20/20 [==============================] - 4s 208ms/step - loss: 4.4621e-04 - val_loss: 0.0044\n",
      "Epoch 38/100\n",
      "20/20 [==============================] - 4s 209ms/step - loss: 4.1281e-04 - val_loss: 0.0029\n",
      "Epoch 39/100\n",
      "20/20 [==============================] - 4s 213ms/step - loss: 4.5057e-04 - val_loss: 0.0033\n",
      "Epoch 40/100\n",
      "20/20 [==============================] - 4s 219ms/step - loss: 3.9712e-04 - val_loss: 0.0052\n",
      "Epoch 41/100\n",
      "20/20 [==============================] - 4s 211ms/step - loss: 4.0949e-04 - val_loss: 0.0033\n",
      "Epoch 42/100\n",
      "20/20 [==============================] - 4s 210ms/step - loss: 4.0664e-04 - val_loss: 0.0031\n",
      "Epoch 43/100\n",
      "20/20 [==============================] - 4s 213ms/step - loss: 3.7698e-04 - val_loss: 0.0028\n",
      "Epoch 44/100\n",
      "20/20 [==============================] - 4s 212ms/step - loss: 4.0018e-04 - val_loss: 0.0024\n",
      "Epoch 45/100\n",
      "20/20 [==============================] - 4s 210ms/step - loss: 3.9166e-04 - val_loss: 0.0035\n",
      "Epoch 46/100\n",
      "20/20 [==============================] - 4s 210ms/step - loss: 3.5747e-04 - val_loss: 0.0016\n",
      "Epoch 47/100\n",
      "20/20 [==============================] - 4s 213ms/step - loss: 3.6015e-04 - val_loss: 0.0025\n",
      "Epoch 48/100\n",
      "20/20 [==============================] - 4s 210ms/step - loss: 3.4666e-04 - val_loss: 0.0039\n",
      "Epoch 49/100\n",
      "20/20 [==============================] - 4s 209ms/step - loss: 3.3328e-04 - val_loss: 0.0029\n",
      "Epoch 50/100\n",
      "20/20 [==============================] - 4s 209ms/step - loss: 3.3943e-04 - val_loss: 0.0035\n",
      "Epoch 51/100\n",
      "20/20 [==============================] - 4s 210ms/step - loss: 3.2492e-04 - val_loss: 0.0018\n",
      "Epoch 52/100\n",
      "20/20 [==============================] - 4s 215ms/step - loss: 3.2074e-04 - val_loss: 0.0021\n",
      "Epoch 53/100\n",
      "20/20 [==============================] - 4s 210ms/step - loss: 3.2734e-04 - val_loss: 0.0013\n",
      "Epoch 54/100\n",
      "20/20 [==============================] - 4s 210ms/step - loss: 3.1484e-04 - val_loss: 0.0014\n",
      "Epoch 55/100\n",
      "20/20 [==============================] - 4s 212ms/step - loss: 3.0049e-04 - val_loss: 0.0032\n",
      "Epoch 56/100\n",
      "20/20 [==============================] - 4s 212ms/step - loss: 2.8891e-04 - val_loss: 0.0020\n",
      "Epoch 57/100\n",
      "20/20 [==============================] - 4s 216ms/step - loss: 2.9518e-04 - val_loss: 0.0024\n",
      "Epoch 58/100\n",
      "20/20 [==============================] - 4s 210ms/step - loss: 2.8652e-04 - val_loss: 0.0016\n",
      "Epoch 59/100\n",
      "20/20 [==============================] - 4s 211ms/step - loss: 3.0439e-04 - val_loss: 0.0032\n",
      "Epoch 60/100\n",
      "20/20 [==============================] - 4s 215ms/step - loss: 2.7954e-04 - val_loss: 0.0025\n",
      "Epoch 61/100\n",
      "20/20 [==============================] - 4s 213ms/step - loss: 2.7763e-04 - val_loss: 0.0021\n",
      "Epoch 62/100\n",
      "20/20 [==============================] - 4s 213ms/step - loss: 2.6460e-04 - val_loss: 0.0026\n",
      "Epoch 63/100\n",
      "20/20 [==============================] - 4s 211ms/step - loss: 2.5419e-04 - val_loss: 0.0017\n",
      "Epoch 64/100\n",
      "20/20 [==============================] - 4s 212ms/step - loss: 2.5588e-04 - val_loss: 0.0018\n",
      "Epoch 65/100\n",
      "20/20 [==============================] - 4s 211ms/step - loss: 2.7373e-04 - val_loss: 0.0013\n",
      "Epoch 66/100\n",
      "20/20 [==============================] - 4s 212ms/step - loss: 2.6436e-04 - val_loss: 0.0022\n",
      "Epoch 67/100\n",
      "20/20 [==============================] - 4s 212ms/step - loss: 2.5782e-04 - val_loss: 0.0027\n",
      "Epoch 68/100\n",
      "20/20 [==============================] - 4s 212ms/step - loss: 2.4055e-04 - val_loss: 0.0017\n",
      "Epoch 69/100\n",
      "20/20 [==============================] - 4s 215ms/step - loss: 2.3505e-04 - val_loss: 0.0020\n",
      "Epoch 70/100\n",
      "20/20 [==============================] - 4s 219ms/step - loss: 2.5045e-04 - val_loss: 0.0016\n",
      "Epoch 71/100\n",
      "20/20 [==============================] - 4s 218ms/step - loss: 2.3806e-04 - val_loss: 0.0018\n",
      "Epoch 72/100\n",
      "20/20 [==============================] - 4s 215ms/step - loss: 2.3883e-04 - val_loss: 0.0017\n",
      "Epoch 73/100\n",
      "20/20 [==============================] - 4s 214ms/step - loss: 2.2889e-04 - val_loss: 0.0033\n",
      "Epoch 74/100\n",
      "20/20 [==============================] - 4s 213ms/step - loss: 2.1796e-04 - val_loss: 0.0017\n",
      "Epoch 75/100\n",
      "20/20 [==============================] - 4s 218ms/step - loss: 2.2548e-04 - val_loss: 0.0023\n",
      "Epoch 76/100\n",
      "20/20 [==============================] - 4s 213ms/step - loss: 2.0495e-04 - val_loss: 0.0018\n",
      "Epoch 77/100\n",
      "20/20 [==============================] - 4s 214ms/step - loss: 2.0005e-04 - val_loss: 0.0011\n",
      "Epoch 78/100\n"
     ]
    },
    {
     "name": "stdout",
     "output_type": "stream",
     "text": [
      "20/20 [==============================] - 4s 213ms/step - loss: 2.0368e-04 - val_loss: 0.0014\n",
      "Epoch 79/100\n",
      "20/20 [==============================] - 4s 209ms/step - loss: 1.9440e-04 - val_loss: 0.0017\n",
      "Epoch 80/100\n",
      "20/20 [==============================] - 4s 210ms/step - loss: 1.9298e-04 - val_loss: 0.0011\n",
      "Epoch 81/100\n",
      "20/20 [==============================] - 4s 212ms/step - loss: 1.7310e-04 - val_loss: 0.0020\n",
      "Epoch 82/100\n",
      "20/20 [==============================] - 4s 210ms/step - loss: 1.8608e-04 - val_loss: 0.0021\n",
      "Epoch 83/100\n",
      "20/20 [==============================] - 4s 212ms/step - loss: 1.9501e-04 - val_loss: 0.0020\n",
      "Epoch 84/100\n",
      "20/20 [==============================] - 4s 212ms/step - loss: 1.8252e-04 - val_loss: 0.0014\n",
      "Epoch 85/100\n",
      "20/20 [==============================] - 4s 223ms/step - loss: 1.8750e-04 - val_loss: 0.0025\n",
      "Epoch 86/100\n",
      "20/20 [==============================] - 4s 213ms/step - loss: 1.7318e-04 - val_loss: 9.1081e-04\n",
      "Epoch 87/100\n",
      "20/20 [==============================] - 4s 216ms/step - loss: 1.8605e-04 - val_loss: 9.6469e-04\n",
      "Epoch 88/100\n",
      "20/20 [==============================] - 4s 215ms/step - loss: 1.7717e-04 - val_loss: 0.0013\n",
      "Epoch 89/100\n",
      "20/20 [==============================] - 4s 212ms/step - loss: 1.6671e-04 - val_loss: 9.6717e-04\n",
      "Epoch 90/100\n",
      "20/20 [==============================] - 4s 213ms/step - loss: 1.7581e-04 - val_loss: 0.0015\n",
      "Epoch 91/100\n",
      "20/20 [==============================] - 4s 214ms/step - loss: 1.8096e-04 - val_loss: 0.0013\n",
      "Epoch 92/100\n",
      "20/20 [==============================] - 4s 214ms/step - loss: 1.5341e-04 - val_loss: 0.0012\n",
      "Epoch 93/100\n",
      "20/20 [==============================] - 4s 215ms/step - loss: 1.5926e-04 - val_loss: 0.0012\n",
      "Epoch 94/100\n",
      "20/20 [==============================] - 4s 213ms/step - loss: 1.5945e-04 - val_loss: 0.0015\n",
      "Epoch 95/100\n",
      "20/20 [==============================] - 4s 215ms/step - loss: 1.5017e-04 - val_loss: 0.0018\n",
      "Epoch 96/100\n",
      "20/20 [==============================] - 4s 213ms/step - loss: 1.6057e-04 - val_loss: 0.0020\n",
      "Epoch 97/100\n",
      "20/20 [==============================] - 4s 216ms/step - loss: 1.6896e-04 - val_loss: 0.0018\n",
      "Epoch 98/100\n",
      "20/20 [==============================] - 4s 216ms/step - loss: 1.6460e-04 - val_loss: 0.0032\n",
      "Epoch 99/100\n",
      "20/20 [==============================] - 4s 216ms/step - loss: 1.8830e-04 - val_loss: 0.0032\n",
      "Epoch 100/100\n",
      "20/20 [==============================] - 4s 216ms/step - loss: 2.0143e-04 - val_loss: 0.0018\n"
     ]
    },
    {
     "data": {
      "text/plain": [
       "<keras.callbacks.History at 0x15b348bb2b0>"
      ]
     },
     "execution_count": 41,
     "metadata": {},
     "output_type": "execute_result"
    }
   ],
   "source": [
    "model.fit(xTrain, yTrain, validation_data=(xTest, yTest), epochs=100, batch_size=64, verbose=1)"
   ]
  },
  {
   "cell_type": "markdown",
   "id": "551b21c9",
   "metadata": {},
   "source": [
    "### Predicting on Train and Test data"
   ]
  },
  {
   "cell_type": "code",
   "execution_count": 42,
   "id": "e1cc03fa",
   "metadata": {},
   "outputs": [
    {
     "name": "stdout",
     "output_type": "stream",
     "text": [
      "40/40 [==============================] - 2s 37ms/step\n",
      "15/15 [==============================] - 1s 37ms/step\n"
     ]
    }
   ],
   "source": [
    "trainPred = model.predict(xTrain)\n",
    "testPred = model.predict(xTest)"
   ]
  },
  {
   "cell_type": "markdown",
   "id": "a63fd443",
   "metadata": {},
   "source": [
    "The above prediction is in the scaled form which we need to convert into original form."
   ]
  },
  {
   "cell_type": "code",
   "execution_count": 43,
   "id": "e0928638",
   "metadata": {},
   "outputs": [],
   "source": [
    "trainPred = scaler.inverse_transform(trainPred)\n",
    "testPred = scaler.inverse_transform(testPred)"
   ]
  },
  {
   "cell_type": "markdown",
   "id": "6c4cf90a",
   "metadata": {},
   "source": [
    "We will now calculate root mean squared error on our predicted data and actual data"
   ]
  },
  {
   "cell_type": "code",
   "execution_count": 44,
   "id": "40e507af",
   "metadata": {},
   "outputs": [
    {
     "name": "stdout",
     "output_type": "stream",
     "text": [
      "Train Rmse:  133.81485910255392  Test Rmse:  211.7816163809461\n"
     ]
    }
   ],
   "source": [
    "from sklearn.metrics import mean_squared_error\n",
    "import math\n",
    "rmseTrain = math.sqrt(mean_squared_error(yTrain,trainPred))\n",
    "rmseTest = math.sqrt(mean_squared_error(yTest,testPred))\n",
    "print(\"Train Rmse: \",rmseTrain,\" Test Rmse: \",rmseTest)"
   ]
  },
  {
   "cell_type": "markdown",
   "id": "208ab29d",
   "metadata": {},
   "source": [
    "### Plotting the predictions"
   ]
  },
  {
   "cell_type": "code",
   "execution_count": 45,
   "id": "ccc5c966",
   "metadata": {},
   "outputs": [
    {
     "data": {
      "text/plain": [
       "[<matplotlib.lines.Line2D at 0x15b3fc8d070>]"
      ]
     },
     "execution_count": 45,
     "metadata": {},
     "output_type": "execute_result"
    },
    {
     "data": {
      "image/png": "[encoded data removed]",
      "text/plain": [
       "<Figure size 1300x700 with 1 Axes>"
      ]
     },
     "metadata": {},
     "output_type": "display_data"
    }
   ],
   "source": [
    "#Shifting predicted train data for plotting\n",
    "trainPredPlt = np.empty_like(dataClose)\n",
    "trainPredPlt[:,:] = np.nan\n",
    "trainPredPlt[150:len(trainPred)+150,:] = trainPred\n",
    "\n",
    "#Shifting predicted test data for plotting\n",
    "testPredPlt = np.empty_like(dataClose)\n",
    "testPredPlt[:,:] = np.nan\n",
    "testPredPlt[300+len(trainPred)+1:len(dataClose)-1,:] = testPred\n",
    "\n",
    "plt.figure(figsize=(13,7))\n",
    "plt.plot(dataAsc['Close'])\n",
    "plt.plot(trainPredPlt)\n",
    "plt.plot(testPredPlt)"
   ]
  },
  {
   "cell_type": "markdown",
   "id": "baaa193f",
   "metadata": {},
   "source": [
    "### Let us predict the closing price for the next day"
   ]
  },
  {
   "cell_type": "code",
   "execution_count": 46,
   "id": "916fef28",
   "metadata": {},
   "outputs": [
    {
     "data": {
      "text/plain": [
       "(2035, 1)"
      ]
     },
     "execution_count": 46,
     "metadata": {},
     "output_type": "execute_result"
    }
   ],
   "source": [
    "dataClose.shape"
   ]
  },
  {
   "cell_type": "code",
   "execution_count": 47,
   "id": "461472cc",
   "metadata": {},
   "outputs": [
    {
     "data": {
      "text/plain": [
       "(150, 1)"
      ]
     },
     "execution_count": 47,
     "metadata": {},
     "output_type": "execute_result"
    }
   ],
   "source": [
    "futTrain = np.array(dataClose[1885:,:])\n",
    "futTrain.shape"
   ]
  },
  {
   "cell_type": "code",
   "execution_count": 48,
   "id": "2ca2fc5c",
   "metadata": {},
   "outputs": [
    {
     "data": {
      "text/plain": [
       "(1, 150, 1)"
      ]
     },
     "execution_count": 48,
     "metadata": {},
     "output_type": "execute_result"
    }
   ],
   "source": [
    "futTrain = futTrain.reshape(1,futTrain.shape[0],1)\n",
    "futTrain.shape"
   ]
  },
  {
   "cell_type": "code",
   "execution_count": 49,
   "id": "600b2f87",
   "metadata": {},
   "outputs": [
    {
     "name": "stdout",
     "output_type": "stream",
     "text": [
      "1/1 [==============================] - 0s 35ms/step\n"
     ]
    }
   ],
   "source": [
    "futPred = model.predict(futTrain)"
   ]
  },
  {
   "cell_type": "code",
   "execution_count": 50,
   "id": "eb49547d",
   "metadata": {},
   "outputs": [
    {
     "data": {
      "text/plain": [
       "array([[226.95688]], dtype=float32)"
      ]
     },
     "execution_count": 50,
     "metadata": {},
     "output_type": "execute_result"
    }
   ],
   "source": [
    "futPred = scaler.inverse_transform(futPred)\n",
    "futPred"
   ]
  },
  {
   "cell_type": "markdown",
   "id": "eed5c968",
   "metadata": {},
   "source": [
    "Here We can see the closing price for next day is 227.451. In this way we can predict the data for future using Stacked LSTM Model.\n",
    "\n",
    "### Thank You!\n",
    "\n",
    "### -By Mutyala Harini"
   ]
  }
 ],
 "metadata": {
  "kernelspec": {
   "display_name": "Python 3 (ipykernel)",
   "language": "python",
   "name": "python3"
  },
  "language_info": {
   "codemirror_mode": {
    "name": "ipython",
    "version": 3
   },
   "file_extension": ".py",
   "mimetype": "text/x-python",
   "name": "python",
   "nbconvert_exporter": "python",
   "pygments_lexer": "ipython3",
   "version": "3.9.13"
  }
 },
 "nbformat": 4,
 "nbformat_minor": 5
}
