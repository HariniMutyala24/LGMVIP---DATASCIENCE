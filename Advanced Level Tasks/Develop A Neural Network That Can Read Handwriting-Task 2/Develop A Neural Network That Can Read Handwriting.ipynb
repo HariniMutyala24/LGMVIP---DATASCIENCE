{
 "cells": [
  {
   "cell_type": "markdown",
   "id": "e84d29da",
   "metadata": {},
   "source": [
    "# LetsGrowMore (LGMVIP) - \"DATA SCIENCE INTERN\"\n",
    "\n",
    "## LGMVIP March-23\n",
    "\n",
    "### AUTHOR - Mutyala Harini\n",
    "\n",
    "#### Advanced Level Task\n",
    "\n",
    "##### TASK-7- Develop A Neural Network That Can Read Handwriting :\n",
    "\n",
    "Begin my neural network machine learning project with the MNIST Handwritten Digit Classification Challenge and using Tensorflow and CNN. It has a very user-friendly interface that’s ideal for beginners.\n",
    "\n",
    "##### Dataset link : https://en.wikipedia.org/wiki/MNIST_database"
   ]
  },
  {
   "cell_type": "markdown",
   "id": "067ba4b2",
   "metadata": {},
   "source": [
    "### Importing Libraries"
   ]
  },
  {
   "cell_type": "code",
   "execution_count": 1,
   "id": "1ab216c2",
   "metadata": {},
   "outputs": [],
   "source": [
    "#Importing packages\n",
    "import tensorflow as tf\n",
    "import numpy as np\n",
    "from matplotlib import pyplot as plt\n",
    "import seaborn as sns"
   ]
  },
  {
   "cell_type": "markdown",
   "id": "a4569b3a",
   "metadata": {},
   "source": [
    "### Loading dataset"
   ]
  },
  {
   "cell_type": "code",
   "execution_count": 2,
   "id": "e75f680e",
   "metadata": {},
   "outputs": [
    {
     "name": "stdout",
     "output_type": "stream",
     "text": [
      "Downloading data from https://storage.googleapis.com/tensorflow/tf-keras-datasets/mnist.npz\n",
      "11490434/11490434 [==============================] - 13s 1us/step\n"
     ]
    }
   ],
   "source": [
    "#loading dataset\n",
    "(x_train,y_train),(x_test,y_test)=tf.keras.datasets.mnist.load_data()"
   ]
  },
  {
   "cell_type": "markdown",
   "id": "5f12e6cc",
   "metadata": {},
   "source": [
    "### Displaying Some images"
   ]
  },
  {
   "cell_type": "code",
   "execution_count": 8,
   "id": "5430acd8",
   "metadata": {},
   "outputs": [
    {
     "data": {
      "image/png": "[encoded data removed]",
      "text/plain": [
       "<Figure size 1000x400 with 7 Axes>"
      ]
     },
     "metadata": {},
     "output_type": "display_data"
    }
   ],
   "source": [
    "#Dataset properties\n",
    "# Display some images\n",
    "fig, axes = plt.subplots(ncols=7, sharex=False, \n",
    "    sharey=True, figsize=(10, 4))\n",
    "for i in range(7):\n",
    "    axes[i].set_title(y_train[i])\n",
    "    axes[i].imshow(x_train[i], cmap='gray_r')\n",
    "    axes[i].get_xaxis().set_visible(False)\n",
    "    axes[i].get_yaxis().set_visible(False)\n",
    "plt.show()"
   ]
  },
  {
   "cell_type": "markdown",
   "id": "15dbc1c8",
   "metadata": {},
   "source": [
    "#### Pre-processing the data"
   ]
  },
  {
   "cell_type": "code",
   "execution_count": 9,
   "id": "0879f909",
   "metadata": {},
   "outputs": [
    {
     "name": "stdout",
     "output_type": "stream",
     "text": [
      "Training images shape :  (60000, 28, 28)\n",
      "Testing images shape :  (10000, 28, 28)\n"
     ]
    }
   ],
   "source": [
    "# Pre-processing the data\n",
    "print('Training images shape : ',x_train.shape)\n",
    "print('Testing images shape : ',x_test.shape)"
   ]
  },
  {
   "cell_type": "code",
   "execution_count": 10,
   "id": "b0fdd6b2",
   "metadata": {},
   "outputs": [],
   "source": [
    "x_train = x_train.reshape(x_train.shape[0], 28, 28, 1)\n",
    "x_test = x_test.reshape(x_test.shape[0], 28, 28, 1)\n",
    "input_shape = (28, 28, 1)"
   ]
  },
  {
   "cell_type": "code",
   "execution_count": 11,
   "id": "d6b82d1b",
   "metadata": {},
   "outputs": [],
   "source": [
    "#applying normalization\n",
    "x_train=x_train/255.0\n",
    "x_testg=x_test/255.0\n",
    "num_classes = 10"
   ]
  },
  {
   "cell_type": "markdown",
   "id": "187d6162",
   "metadata": {},
   "source": [
    "## Creating the model\n",
    "\n",
    "### Model Architecture\n",
    "\n",
    "We will have to first build the model architecture and define it based on our dataset. We are going to add the following layers:\n",
    "\n",
    "* Conv2D - for the convolution layers\n",
    "* Dropout - to prevent overfitting\n",
    "* Dense - a fully connected layer\n",
    "* Softmax activation - This is used to convert all predictions into probability\n",
    "* The model architecture can be tuned to get optimal performance\n",
    "\n",
    "so i am goimg to create a model with\n",
    "\n",
    "CNN + Three layers + relu + (3,3) kernel_size + Dropout rate (0.3)"
   ]
  },
  {
   "cell_type": "code",
   "execution_count": 12,
   "id": "b558a742",
   "metadata": {},
   "outputs": [],
   "source": [
    "from tensorflow.keras.models import Sequential\n",
    "from tensorflow.keras.layers import Dense, Dropout, Flatten,Activation\n",
    "from tensorflow.keras.layers import Conv2D,MaxPooling2D\n",
    "from tensorflow.keras.layers import BatchNormalization"
   ]
  },
  {
   "cell_type": "code",
   "execution_count": 13,
   "id": "5b231de2",
   "metadata": {},
   "outputs": [],
   "source": [
    "model = Sequential()\n",
    "\n",
    "model.add(Conv2D(128, kernel_size=(3, 3),\n",
    "                 activation=tf.nn.relu,\n",
    "                 input_shape=input_shape))\n",
    "model.add(BatchNormalization())\n",
    "model.add(Dropout(0.3))\n",
    "\n",
    "model.add(Conv2D(64, (3, 3), activation=tf.nn.relu))\n",
    "model.add(BatchNormalization())\n",
    "model.add(Dropout(0.3))\n",
    "\n",
    "model.add(Conv2D(32, (3, 3), activation=tf.nn.relu))\n",
    "model.add(BatchNormalization())\n",
    "model.add(Dropout(0.3))\n",
    "\n",
    "\n",
    "model.add(MaxPooling2D(pool_size=(2, 2)))\n",
    "model.add(Dropout(0.3))\n",
    "model.add(Flatten())\n",
    "model.add(Dense(128, activation=tf.nn.relu))\n",
    "model.add(Dropout(0.3))\n",
    "model.add(Dense(num_classes, activation=tf.nn.softmax))"
   ]
  },
  {
   "cell_type": "code",
   "execution_count": 14,
   "id": "f44ead12",
   "metadata": {},
   "outputs": [
    {
     "name": "stdout",
     "output_type": "stream",
     "text": [
      "Model: \"sequential\"\n",
      "_________________________________________________________________\n",
      " Layer (type)                Output Shape              Param #   \n",
      "=================================================================\n",
      " conv2d (Conv2D)             (None, 26, 26, 128)       1280      \n",
      "                                                                 \n",
      " batch_normalization (BatchN  (None, 26, 26, 128)      512       \n",
      " ormalization)                                                   \n",
      "                                                                 \n",
      " dropout (Dropout)           (None, 26, 26, 128)       0         \n",
      "                                                                 \n",
      " conv2d_1 (Conv2D)           (None, 24, 24, 64)        73792     \n",
      "                                                                 \n",
      " batch_normalization_1 (Batc  (None, 24, 24, 64)       256       \n",
      " hNormalization)                                                 \n",
      "                                                                 \n",
      " dropout_1 (Dropout)         (None, 24, 24, 64)        0         \n",
      "                                                                 \n",
      " conv2d_2 (Conv2D)           (None, 22, 22, 32)        18464     \n",
      "                                                                 \n",
      " batch_normalization_2 (Batc  (None, 22, 22, 32)       128       \n",
      " hNormalization)                                                 \n",
      "                                                                 \n",
      " dropout_2 (Dropout)         (None, 22, 22, 32)        0         \n",
      "                                                                 \n",
      " max_pooling2d (MaxPooling2D  (None, 11, 11, 32)       0         \n",
      " )                                                               \n",
      "                                                                 \n",
      " dropout_3 (Dropout)         (None, 11, 11, 32)        0         \n",
      "                                                                 \n",
      " flatten (Flatten)           (None, 3872)              0         \n",
      "                                                                 \n",
      " dense (Dense)               (None, 128)               495744    \n",
      "                                                                 \n",
      " dropout_4 (Dropout)         (None, 128)               0         \n",
      "                                                                 \n",
      " dense_1 (Dense)             (None, 10)                1290      \n",
      "                                                                 \n",
      "=================================================================\n",
      "Total params: 591,466\n",
      "Trainable params: 591,018\n",
      "Non-trainable params: 448\n",
      "_________________________________________________________________\n"
     ]
    }
   ],
   "source": [
    "model.summary()"
   ]
  },
  {
   "cell_type": "markdown",
   "id": "54939b7b",
   "metadata": {},
   "source": [
    "### Training the model"
   ]
  },
  {
   "cell_type": "code",
   "execution_count": 15,
   "id": "53c2afc8",
   "metadata": {},
   "outputs": [
    {
     "name": "stdout",
     "output_type": "stream",
     "text": [
      "Epoch 1/10\n",
      "1688/1688 [==============================] - 3419s 2s/step - loss: 0.2869 - accuracy: 0.9156 - val_loss: 0.0786 - val_accuracy: 0.9785\n",
      "Epoch 2/10\n",
      "1688/1688 [==============================] - 354s 210ms/step - loss: 0.1160 - accuracy: 0.9659 - val_loss: 0.0777 - val_accuracy: 0.9830\n",
      "Epoch 3/10\n",
      "1688/1688 [==============================] - 359s 213ms/step - loss: 0.0885 - accuracy: 0.9744 - val_loss: 0.1144 - val_accuracy: 0.9783\n",
      "Epoch 4/10\n",
      "1688/1688 [==============================] - 361s 214ms/step - loss: 0.0737 - accuracy: 0.9784 - val_loss: 0.0561 - val_accuracy: 0.9877\n",
      "Epoch 5/10\n",
      "1688/1688 [==============================] - 359s 213ms/step - loss: 0.0665 - accuracy: 0.9806 - val_loss: 0.0779 - val_accuracy: 0.9853\n",
      "Epoch 6/10\n",
      "1688/1688 [==============================] - 354s 210ms/step - loss: 0.0579 - accuracy: 0.9833 - val_loss: 0.0633 - val_accuracy: 0.9898\n",
      "Epoch 7/10\n",
      "1688/1688 [==============================] - 360s 213ms/step - loss: 0.0546 - accuracy: 0.9836 - val_loss: 0.1242 - val_accuracy: 0.9860\n",
      "Epoch 8/10\n",
      "1688/1688 [==============================] - 353s 209ms/step - loss: 0.0501 - accuracy: 0.9854 - val_loss: 0.0987 - val_accuracy: 0.9883\n",
      "Epoch 9/10\n",
      "1688/1688 [==============================] - 505s 299ms/step - loss: 0.0455 - accuracy: 0.9862 - val_loss: 0.0826 - val_accuracy: 0.9883\n",
      "Epoch 10/10\n",
      "1688/1688 [==============================] - 424s 251ms/step - loss: 0.0430 - accuracy: 0.9872 - val_loss: 0.0927 - val_accuracy: 0.9873\n"
     ]
    }
   ],
   "source": [
    "# Train the model\n",
    "model.compile(optimizer='adam', \n",
    "              loss='sparse_categorical_crossentropy', \n",
    "              metrics=['accuracy'])\n",
    "history=model.fit(x=x_train,\n",
    "                  y=y_train,\n",
    "                  validation_split=0.1,\n",
    "                  epochs=10)"
   ]
  },
  {
   "cell_type": "markdown",
   "id": "48a59544",
   "metadata": {},
   "source": [
    "### Evaluating the model"
   ]
  },
  {
   "cell_type": "code",
   "execution_count": 16,
   "id": "fc76ba98",
   "metadata": {},
   "outputs": [
    {
     "name": "stdout",
     "output_type": "stream",
     "text": [
      "313/313 [==============================] - 13s 40ms/step - loss: 5.5290 - accuracy: 0.9816\n",
      "Test Loss 5.528995513916016\n",
      "Test Accuracy 0.9815999865531921\n"
     ]
    }
   ],
   "source": [
    "# Evaluate the model\n",
    "loss_and_acc=model.evaluate(x_test,y_test)\n",
    "print(\"Test Loss\", loss_and_acc[0])\n",
    "print(\"Test Accuracy\", loss_and_acc[1])"
   ]
  },
  {
   "cell_type": "markdown",
   "id": "2bf4a134",
   "metadata": {},
   "source": [
    "### Testing the Model"
   ]
  },
  {
   "cell_type": "code",
   "execution_count": 20,
   "id": "f46e8306",
   "metadata": {},
   "outputs": [
    {
     "name": "stdout",
     "output_type": "stream",
     "text": [
      "313/313 [==============================] - 12s 38ms/step\n",
      "Predicted Value:  9\n",
      "Successful prediction\n"
     ]
    },
    {
     "data": {
      "image/png": "[encoded data removed]",
      "text/plain": [
       "<Figure size 640x480 with 1 Axes>"
      ]
     },
     "metadata": {},
     "output_type": "display_data"
    }
   ],
   "source": [
    "# Testing the Model\n",
    "plt.imshow(x_test[7],cmap='gray_r')\n",
    "plt.title('Actual Value: {}'.format(y_test[7]))\n",
    "prediction=model.predict(x_test)\n",
    "\n",
    "plt.axis('off')\n",
    "print('Predicted Value: ',np.argmax(prediction[7]))\n",
    "if(y_test[7]==(np.argmax(prediction[7]))):\n",
    "  print('Successful prediction')\n",
    "else:\n",
    "  print('Unsuccessful prediction')"
   ]
  },
  {
   "cell_type": "code",
   "execution_count": 21,
   "id": "55a8e54e",
   "metadata": {
    "scrolled": false
   },
   "outputs": [
    {
     "name": "stdout",
     "output_type": "stream",
     "text": [
      "313/313 [==============================] - 12s 37ms/step\n",
      "Predicted Value:  2\n",
      "Successful prediction\n"
     ]
    },
    {
     "data": {
      "image/png": "[encoded data removed]",
      "text/plain": [
       "<Figure size 640x480 with 1 Axes>"
      ]
     },
     "metadata": {},
     "output_type": "display_data"
    }
   ],
   "source": [
    "plt.imshow(x_test[1],cmap='gray_r')\n",
    "plt.title('Actual Value: {}'.format(y_test[1]))\n",
    "prediction=model.predict(x_test)\n",
    "plt.axis('off')\n",
    "print('Predicted Value: ',np.argmax(prediction[1]))\n",
    "if(y_test[1]==(np.argmax(prediction[1]))):\n",
    "  print('Successful prediction')\n",
    "else:\n",
    "  print('Unsuccessful prediction')\n",
    "\n"
   ]
  },
  {
   "cell_type": "markdown",
   "id": "c53e8033",
   "metadata": {},
   "source": [
    "### Thank you"
   ]
  },
  {
   "cell_type": "markdown",
   "id": "7519b229",
   "metadata": {},
   "source": [
    "### - Mutyala Harini"
   ]
  }
 ],
 "metadata": {
  "kernelspec": {
   "display_name": "Python 3 (ipykernel)",
   "language": "python",
   "name": "python3"
  },
  "language_info": {
   "codemirror_mode": {
    "name": "ipython",
    "version": 3
   },
   "file_extension": ".py",
   "mimetype": "text/x-python",
   "name": "python",
   "nbconvert_exporter": "python",
   "pygments_lexer": "ipython3",
   "version": "3.9.13"
  }
 },
 "nbformat": 4,
 "nbformat_minor": 5
}
